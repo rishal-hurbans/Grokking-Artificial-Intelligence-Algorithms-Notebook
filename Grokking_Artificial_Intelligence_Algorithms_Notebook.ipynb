{
  "nbformat": 4,
  "nbformat_minor": 0,
  "metadata": {
    "colab": {
      "name": "Grokking-Artificial-Intelligence-Algorithms-Notebook.ipynb",
      "provenance": [],
      "toc_visible": true,
      "authorship_tag": "ABX9TyMzykUYo3L2vHMZ2o0Iru+R",
      "include_colab_link": true
    },
    "kernelspec": {
      "name": "python3",
      "display_name": "Python 3"
    },
    "language_info": {
      "name": "python"
    }
  },
  "cells": [
    {
      "cell_type": "markdown",
      "metadata": {
        "id": "view-in-github",
        "colab_type": "text"
      },
      "source": [
        "<a href=\"https://colab.research.google.com/github/rishal-hurbans/Grokking-Artificial-Intelligence-Algorithms-Notebook/blob/main/Grokking_Artificial_Intelligence_Algorithms_Notebook.ipynb\" target=\"_parent\"><img src=\"https://colab.research.google.com/assets/colab-badge.svg\" alt=\"Open In Colab\"/></a>"
      ]
    },
    {
      "cell_type": "markdown",
      "metadata": {
        "id": "sTq1E6JfqCuX"
      },
      "source": [
        "# Grokking Artificial Intelligence Algorithms by Rishal Hurbans\n",
        "\n",
        "This is an accompanying code notebook to the book. Although you might learn a thing or two here, I recommend checking out the book for more detail and a deeper understanding. \n",
        "\n",
        "[Get the book, Grokking Artificial Intelligence Algorithms at Manning Publications](https://www.manning.com/books/grokking-artificial-intelligence-algorithms?a_aid=gaia&a_bid=6a1b836a)\n",
        "\n",
        "Looking at past developments highlights the importance of understanding the fundamentals of AI; algorithms from decades ago are critical in many modern AI implementations. This book starts with fundamental algorithms that help build the intuition of problem-solving and gradually moves to more interesting and modern approaches.\n",
        "\n",
        "![History of AI](https://github.com/rishal-hurbans/Grokking-Artificial-Intelligence-Algorithms/blob/master/readme_assets/history_of_ai.png?raw=true)\n"
      ]
    },
    {
      "cell_type": "markdown",
      "metadata": {
        "id": "nObOY6aiSw3z"
      },
      "source": [
        "## Overview of this code notebook\n",
        "The example implementations provided will make more sense if you've read the book, however, it might be somewhat useful to you otherwise.\n",
        "\n",
        "The purpose of this repository is to act as a practical reference for examples of how the algorithms mentioned in the book can be implemented. This repository should not be consulted as the book is read page-by-page, but rather, when you're attempting to implement an algorithm or gain a more technical understanding from a programming perspective."
      ]
    },
    {
      "cell_type": "markdown",
      "metadata": {
        "id": "VPdePkT_EOqI"
      },
      "source": [
        "# Chapter 1: Intuition of artificial intelligence\n",
        "\n",
        "This directory does not contain any code since there are no specific algorithm implementations discussed in Chapter 1.\n",
        "\n",
        "Intelligence is a mystery. Intelligence is a concept that has no agreed upon definition. Philosophers, psychologists, scientists and engineers all have different opinions about what it is and how it emerges. We see intelligence in nature around us such as groups of living creatures working together, and we see intelligence in the way that we think and behave. In general, things that are autonomous yet adaptive are considered to be intelligent.\n"
      ]
    },
    {
      "cell_type": "markdown",
      "metadata": {
        "id": "PAY_XhB3KDDH"
      },
      "source": [
        "## Algorithms are like recipes\n",
        "Algorithms are like a pita bread recipe. There's a problem being solved (making good pita bread), ingredients required (pieces of input), a sequence of steps to follow (recipe instructions), and the resulting output, in this case, pita bread of a certain quality.\n",
        "\n",
        "IMAGE\n",
        "\n",
        "Algorithms can provide the same output given a specific input, always - these are called deterministic algorithms; or they can result in a different output when the steps involve an element of randomness or uncertainty - these are called stochastic algorithms.\n",
        "\n",
        "The algorithm for a .max(x, y) function might involve comparing two numbers to find the maximum. Inputs are x and y, and the algorithm finds the largest - somewhat easy to intuit how it works.\n",
        "\n",
        "The algorithm for Photoshop to cut a background might involve iterating through all the pixels in an image and finding edges or areas of contrast - there's a set of well known techniques for this.\n",
        "\n",
        "The algorithm for Netflix might involve comparing the category of videos you've watched with the categories of all other movies out there to provide you with recommendations...or, it might compare your demographic data with other user's data, and provide you with recommendations based on movies they have watched - these algorithms' outputs are more difficult to estimate.\n",
        "\n",
        "You might have heard of the joke: An algorithm is a word used by programmers when they don't want to explain what they did.\n",
        "\n",
        "Deep learning models are solving some of the toughest problems today, but they're often mysterious in their workings. The future calls for algorithms to be more transparent, understandable, and accessible to people of varied skillsets - a mammoth of a challenge for us all!"
      ]
    },
    {
      "cell_type": "markdown",
      "metadata": {
        "id": "UYil7PuQTvM1"
      },
      "source": [
        "## AI algorithm families\n",
        "Different families of algorithms solve different problems. We don't necessarily need to be experts in the details of each one, but having a grasp on what problems they can solve, and how they generally work, equips us with more tools when making decisions.\n",
        "\n",
        "IMAGE\n",
        "\n",
        "Traditional search algorithms are useful where several actions are required to achieve a goal, like finding a path through a maze. These algorithms evaluate possible states and attempt to find an optimal path . Typically, we have too many possible solutions to brute-force.\n",
        "\n",
        "IMAGE\n",
        "\n",
        "Biology-inspired algorithms are wondrous things happening all the time. The cooperation of ants in gathering food, the flocking of birds, estimating how brains work, and the evolution of organisms to produce strong offspring. These have inspired algorithms that are useful in AI.\n",
        "\n",
        "IMAGE\n",
        "\n",
        "Traditional machine learning algorithms leverages statistics to training models to learn from data. The umbrella of machine learning has a variety of algorithms that can be harnessed to improve understanding of relationships in data, to make predictions and decisions.\n",
        "\n",
        "IMAGE\n",
        "\n",
        "Deep learning algorithms are a broader family of approaches and algorithms that are used to achieve narrow intelligence and strive toward general intelligence. It attempts to solve general problems like vision, speech, and reasoning. It often leverages artificial neural networks.\n",
        "\n",
        "IMAGE\n",
        "\n",
        "Reinforcement learning algorithms are based on behavioural psychology and use feedback from actions performed to learn what sequences are more beneficial. Reinforcement learning is useful when you know what the goal is but don’t know what actions are reasonable to achieve it."
      ]
    },
    {
      "cell_type": "markdown",
      "metadata": {
        "id": "vXpyQOh7Lyfb"
      },
      "source": [
        "## Learn more on AI intuition\n",
        "Would you like to see visual examples of how these concepts relate? Consider checking out the book, [Grokking Artificial Intelligence Algorithms](http://bit.ly/gaia-book), or [following me](https://twitter.com/RishalHurbans) for bite-sized explainations. You can also learn more at [rhurbans.com](https://rhurbans.com/).\n",
        "\n",
        "IMAGE"
      ]
    },
    {
      "cell_type": "markdown",
      "metadata": {
        "id": "p7B-fEDfEc-h"
      },
      "source": [
        "# Chapter 2: Search fundamentals\n",
        "\n",
        "## Uninformed search\n",
        "Uninformed search is also known as unguided search, blind search, or brute-force search. Uninformed search algorithms have no additional information about the domain of the problem apart from the representation of the problem which is usually a tree.\n",
        "\n",
        "Think about when you explore things you want to learn. Some might look at a wide breadth of different topics and learn the basics of each, whereas others might choose one narrow topic and explore its subtopics in depth. This is what Breadth-first Search and Depth-first Search involves, respectively. Depth-first search explores a specific path from the start till it finds a goal at the utmost depth. Breadth-first search explores all options at a specific depth before moving to options deeper in the tree."
      ]
    },
    {
      "cell_type": "markdown",
      "metadata": {
        "id": "Z_8HBmgm4b1Z"
      },
      "source": [
        "## Solving a maze puzzle with code\n",
        "\n",
        "One scenario in which search algorithms are useful is being stuck in a maze and attempting to find the shortest path to a goal. Suppose that we’re in a square maze consisting of an area of 10 blocks by 10 blocks. There exists a goal that we want to reach and barriers that we cannot step into. The objective is to find a path to the goal while avoiding barriers with as few steps as possible by moving north, south, east, or west. In this example, the player cannot move diagonally.\n",
        "\n",
        "IMAGE\n",
        "\n",
        "How can we find the shortest path to the goal while avoiding barriers? By evaluating the problem as a human, we can try each possibility and count the moves. Using trial and error, we can find the paths that are the shortest, given that this maze is relatively small.\n",
        "\n",
        "Using the example maze, figure 2.5 depicts some possible paths to reach the goal, although note that we don’t reach the goal in option 1.\n",
        "\n",
        "IMAGE"
      ]
    },
    {
      "cell_type": "markdown",
      "metadata": {
        "id": "fw4HjUbX4dxi"
      },
      "source": [
        "## Data structures for the maze\n",
        "Data structures are concepts in computer science used to represent data in a way that is suitable for efficient processing by algorithms. A data structure is an abstract data type consisting of data and operations organized in a specific way. The data structure we use is influenced by the context of the problem and the desired goal.\n",
        "\n",
        "We need a data structure to keep track of points in the maze, and another more complex one to keep track of the objects, relationships between points, and movements in the maze. \n"
      ]
    },
    {
      "cell_type": "markdown",
      "metadata": {
        "id": "55gH2ZoNNqGp"
      },
      "source": [
        "### Point class\n",
        "This class is used to store the idea of a point in the maze and linking it to other points to create a path."
      ]
    },
    {
      "cell_type": "code",
      "metadata": {
        "id": "hnAo3Z0lL78A"
      },
      "source": [
        "import copy\n",
        "import math\n",
        "\n",
        "\n",
        "# This class is used to store the idea of a point in the maze and linking it to other points to create a path.\n",
        "class Point:\n",
        "    def __init__(self, x=0, y=0):\n",
        "        self.x = x\n",
        "        self.y = y\n",
        "        self.parent = None\n",
        "        self.cost = math.inf\n",
        "\n",
        "    def set_parent(self, p):\n",
        "        self.parent = p\n",
        "\n",
        "    def set_cost(self, c):\n",
        "        self.cost = c\n",
        "\n",
        "    def print(self):\n",
        "        print(self.x, ',', self.y)\n",
        "\n",
        "\n",
        "# These constants are used to reference points on the maze that are in the respective direction of a point in question.\n",
        "NORTH = Point(0, 1)\n",
        "SOUTH = Point(0, -1)\n",
        "EAST = Point(1, 0)\n",
        "WEST = Point(-1, 0)\n"
      ],
      "execution_count": null,
      "outputs": []
    },
    {
      "cell_type": "markdown",
      "metadata": {
        "id": "uf5IY-P-MAPR"
      },
      "source": [
        "### MazePuzzle class\n",
        "The MazePuzzle class contains the mechanics of the game. Initialize the maze with a map containing; * at the goal, 0 as an empty unexplored point, and # as a point with a wall."
      ]
    },
    {
      "cell_type": "code",
      "metadata": {
        "id": "dWO9NKgC27cC"
      },
      "source": [
        "# The MazePuzzle class contains the mechanics of the game\n",
        "class MazePuzzle:\n",
        "\n",
        "    WALL = '#'\n",
        "    EMPTY = '_'\n",
        "    GOAL = '*'\n",
        "\n",
        "    # Initialize the maze with a map containing; * at the goal, 0 as an empty unexplored point, and # as a point with\n",
        "    # a wall.\n",
        "    def __init__(self, maze_size_x=5, maze_size_y=5):\n",
        "        self.maze_size_x = maze_size_x\n",
        "        self.maze_size_y = maze_size_y\n",
        "        self.maze = ['*0000',\n",
        "                     '0###0',\n",
        "                     '0#0#0',\n",
        "                     '0#000',\n",
        "                     '00000']\n",
        "\n",
        "    def get_current_point_value(self, current_point):\n",
        "        return self.maze[current_point.x][current_point.y]\n",
        "\n",
        "    # Return all valid neighbors around a specific point, excluding points outside of the maze and walls.\n",
        "    def get_neighbors(self, current_point):\n",
        "        neighbors = []\n",
        "        # potential_neighbors = [[0, 1], [0, -1], [1, 0], [-1, 0]]\n",
        "        potential_neighbors = [[NORTH.x, NORTH.y], [SOUTH.x, SOUTH.y], [EAST.x, EAST.y], [WEST.x, WEST.y]]\n",
        "        for neighbor in potential_neighbors:\n",
        "            target_point = Point(current_point.x + neighbor[0], current_point.y + neighbor[1])\n",
        "            if 0 <= target_point.x < self.maze_size_x and 0 <= target_point.y < self.maze_size_y:\n",
        "                if self.get_current_point_value(target_point) != '#':\n",
        "                    neighbors.append(target_point)\n",
        "        return neighbors\n",
        "\n",
        "    # A function to visually show a set of points visited in the maze\n",
        "    def overlay_points_on_map(self, points):\n",
        "        overlay_map = copy.deepcopy(self.maze)\n",
        "        for point in points:\n",
        "            new_row = overlay_map[point.x][:point.y] + '@' + overlay_map[point.x][point.y + 1:]\n",
        "            overlay_map[point.x] = new_row\n",
        "\n",
        "        result = ''\n",
        "        for x in range(0, self.maze_size_x):\n",
        "            for y in range(0, self.maze_size_y):\n",
        "                result += overlay_map[x][y]\n",
        "            result += '\\n'\n",
        "        print(result)\n",
        "\n",
        "        return overlay_map\n",
        "\n",
        "    def print_maze(self):\n",
        "        result = ''\n",
        "        for x in range(0, self.maze_size_x):\n",
        "            for y in range(0, self.maze_size_y):\n",
        "                result += self.maze[x][y]\n",
        "            result += '\\n'\n",
        "        print(result)\n"
      ],
      "execution_count": 1,
      "outputs": []
    },
    {
      "cell_type": "markdown",
      "metadata": {
        "id": "9M_kaVb130GA"
      },
      "source": [
        "## Utility functions for the maze\n",
        "These utility funcations help us get information about a path like the length of it, the total cost, and more."
      ]
    },
    {
      "cell_type": "code",
      "metadata": {
        "id": "jkcJGIdy37lb"
      },
      "source": [
        "# Utility to get a path as a list of points by traversing the parents of a node until the root is reached.\n",
        "def get_path(point):\n",
        "    path = []\n",
        "    current_point = point\n",
        "    while current_point.parent is not None:\n",
        "        path.append(current_point)\n",
        "        current_point = current_point.parent\n",
        "    return path\n",
        "\n",
        "\n",
        "# Utility to find the length of a specific path given a point.\n",
        "def get_path_length(point):\n",
        "    path = []\n",
        "    current_point = point\n",
        "    total_length = 0\n",
        "    while current_point.parent is not None:\n",
        "        path.append(current_point)\n",
        "        total_length += 1\n",
        "        current_point = current_point.parent\n",
        "    return total_length\n",
        "\n",
        "\n",
        "# Utility to calculate the cost of a path if an additional cost of movement exists.\n",
        "def get_path_cost(point):\n",
        "    path = []\n",
        "    current_point = point\n",
        "    total_cost = 0\n",
        "    while current_point.parent is not None:\n",
        "        path.append(current_point)\n",
        "        total_cost += get_cost(get_direction(current_point.parent, current_point))\n",
        "        current_point = current_point.parent\n",
        "    return total_cost\n",
        "\n",
        "\n",
        "# Utility to determine the cost of a specific move.\n",
        "def get_move_cost(origin, target):\n",
        "    return get_cost(get_direction(origin, target))\n",
        "\n",
        "\n",
        "# Utility to determine the direction of movement given an origin and target point.\n",
        "def get_direction(origin, target):\n",
        "    if target.x == origin.x and target.y == origin.y - 1:\n",
        "        return 'N'\n",
        "    elif target.x == origin.x and target.y == origin.y + 1:\n",
        "        return 'S'\n",
        "    elif target.x == origin.x + 1 and target.y == origin.y:\n",
        "        return 'E'\n",
        "    elif target.x == origin.x - 1 and target.y == origin.y:\n",
        "        return 'W'\n",
        "\n",
        "\n",
        "# Utility to determine the cost of a move given a direction. In this case, North and South is 5, and East and West is 1.\n",
        "STANDARD_COST = 1\n",
        "GRAVITY_COST = 5\n",
        "\n",
        "\n",
        "def get_cost(direction):\n",
        "    if direction == 'N' or direction == 'S':\n",
        "        return GRAVITY_COST\n",
        "    return STANDARD_COST"
      ],
      "execution_count": null,
      "outputs": []
    },
    {
      "cell_type": "markdown",
      "metadata": {
        "id": "V2RJtiOv39Jf"
      },
      "source": [
        "## Solving using breadth-first search\n",
        "Breadth-first search is an algorithm used to traverse or generate a tree. This algorithm starts at a specific node\n",
        "called the root and explores every node at that depth before exploring the next depth of nodes. It essentially visits\n",
        "all children of nodes at a specific depth before visiting the next depth of child until it finds a goal leaf node.\n",
        "\n",
        "The Breadth first search algorithm is best implemented using a first-in-first-out queue where the current depth of\n",
        "nodes are processed and their children are queued to be processed later. This order of processing is exactly what\n",
        "we require when implementing this algorithm.\n",
        "\n",
        "IMAGE"
      ]
    },
    {
      "cell_type": "code",
      "metadata": {
        "colab": {
          "base_uri": "https://localhost:8080/"
        },
        "id": "-hK9Hx-i3I24",
        "outputId": "82d2ad48-dcb4-422b-8e0c-c4160da9330d"
      },
      "source": [
        "from collections import deque\n",
        "\n",
        "\n",
        "# Function to find a route using the Breadth-first Search algorithm.\n",
        "# Breadth-first search is an algorithm used to traverse or generate a tree. This algorithm starts at a specific node\n",
        "# called the root and explores every node at that depth before exploring the next depth of nodes. It essentially visits\n",
        "# all children of nodes at a specific depth before visiting the next depth of child until it finds a goal leaf node.\n",
        "\n",
        "# The Breadth first search algorithm is best implemented using a first-in-first-out queue where the current depth of\n",
        "# nodes are processed and their children are queued to be processed later. This order of processing is exactly what\n",
        "# we require when implementing this algorithm.\n",
        "def run_bfs(maze_puzzle, current_point, visited_points):\n",
        "    queue = deque()\n",
        "    # Append the current node to the queue\n",
        "    queue.append(current_point)\n",
        "    visited_points.append(current_point)\n",
        "    # Keep searching while there are nodes in the queue\n",
        "    while queue:\n",
        "        # Set the next node in the queue as the current node\n",
        "        current_point = queue.popleft()\n",
        "        # Get the neighbors of the current node\n",
        "        neighbors = maze_puzzle.get_neighbors(current_point)\n",
        "        # Iterate through the neighbors of the current node\n",
        "        for neighbor in neighbors:\n",
        "            # Add the neighbor to the queue if it hasn't been visited\n",
        "            if not is_in_visited_points(neighbor, visited_points):\n",
        "                neighbor.set_parent(current_point)\n",
        "                queue.append(neighbor)\n",
        "                visited_points.append(neighbor)\n",
        "                # Return the path to the current neighbor if it is the goal\n",
        "                if maze_puzzle.get_current_point_value(neighbor) == '*':\n",
        "                    return neighbor\n",
        "    # In the case that no path to the goal was found\n",
        "    return 'No path to the goal found.'\n",
        "\n",
        "\n",
        "# Function to determine if the point has already been visited\n",
        "def is_in_visited_points(current_point, visited_points):\n",
        "    for visited_point in visited_points:\n",
        "        if current_point.x == visited_point.x and current_point.y == visited_point.y:\n",
        "            return True\n",
        "    return False\n",
        "\n",
        "\n",
        "print('---Breadth-first Search---')\n",
        "\n",
        "# Initialize a MazePuzzle\n",
        "maze_game_main = MazePuzzle()\n",
        "\n",
        "# Run the breadth first search algorithm with the initialized maze\n",
        "starting_point = Point(2, 2)\n",
        "outcome = run_bfs(maze_game_main, starting_point, [])\n",
        "\n",
        "# Get the path found by the breadth first search algorithm\n",
        "bfs_path = get_path(outcome)\n",
        "\n",
        "# Print the results of the path found\n",
        "print('Path Length: ', len(bfs_path))\n",
        "maze_game_main.overlay_points_on_map(bfs_path)\n",
        "print('Path Cost: ', get_path_cost(outcome))\n",
        "for point in bfs_path:\n",
        "    print('Point: ', point.x, ',', point.y)\n"
      ],
      "execution_count": 7,
      "outputs": [
        {
          "output_type": "stream",
          "text": [
            "---Breadth-first Search---\n",
            "Path Length:  8\n",
            "@0000\n",
            "@###0\n",
            "@#0#0\n",
            "@#@00\n",
            "@@@00\n",
            "\n",
            "Path Cost:  16\n",
            "Point:  0 , 0\n",
            "Point:  1 , 0\n",
            "Point:  2 , 0\n",
            "Point:  3 , 0\n",
            "Point:  4 , 0\n",
            "Point:  4 , 1\n",
            "Point:  4 , 2\n",
            "Point:  3 , 2\n"
          ],
          "name": "stdout"
        }
      ]
    },
    {
      "cell_type": "markdown",
      "metadata": {
        "id": "9JkyrhGr4K53"
      },
      "source": [
        "## Solving using depth-first search\n",
        "Depth-first search is an algorithm used to traverse a tree or generate nodes and paths in a tree. This algorithm\n",
        "starts at a specific node and explores paths of connected nodes of the first child and does this recursively until\n",
        "it reaches the furthest leaf node before backtracking and exploring other paths to leaf nodes via other child nodes\n",
        "that have been visited.\n",
        "\n",
        "Although the Depth-first search algorithm van be implemented with a recursive function. This implementation is\n",
        "achieved using a stack to better represent the order of operations as to which nodes get visited and processed.\n",
        "It is important to keep track of the visited points so that the same nodes do not get visited unnecessarily and\n",
        "create cyclic loops.\n",
        "\n",
        "IMAGE"
      ]
    },
    {
      "cell_type": "code",
      "metadata": {
        "colab": {
          "base_uri": "https://localhost:8080/"
        },
        "id": "r-3KuyeR4M3U",
        "outputId": "facbf669-26a4-4e66-aa2d-7964a1649404"
      },
      "source": [
        "# Function to find a route using the Depth-first Search algorithm.\n",
        "\n",
        "# Depth-first search is an algorithm used to traverse a tree or generate nodes and paths in a tree. This algorithm\n",
        "# starts at a specific node and explores paths of connected nodes of the first child and does this recursively until\n",
        "# it reaches the furthest leaf node before backtracking and exploring other paths to leaf nodes via other child nodes\n",
        "# that have been visited.\n",
        "\n",
        "# Although the Depth-first search algorithm van be implemented with a recursive function. This implementation is\n",
        "# achieved using a stack to better represent the order of operations as to which nodes get visited and processed.\n",
        "# It is important to keep track of the visited points so that the same nodes do not get visited unnecessarily and\n",
        "# create cyclic loops.\n",
        "def run_dfs(maze_game, current_point):\n",
        "    # Append the current node to the stack\n",
        "    visited_points = []\n",
        "    stack = [current_point]\n",
        "    # Keep searching while there are nodes in the stack\n",
        "    while stack:\n",
        "        # Set the next node in the stack as the current node\n",
        "        next_point = stack.pop()\n",
        "        # If the current node hasn't already been exploited, search it\n",
        "        if not is_in_visited_points(next_point, visited_points):\n",
        "            visited_points.append(next_point)\n",
        "            # Return the path to the current neighbor if it is the goal\n",
        "            if maze_game.get_current_point_value(next_point) == '*':\n",
        "                return next_point\n",
        "            else:\n",
        "                # Add the current node's neighbors to the stack\n",
        "                neighbors = maze_game.get_neighbors(next_point)\n",
        "                for neighbor in neighbors:\n",
        "                    neighbor.set_parent(next_point)\n",
        "                    stack.append(neighbor)\n",
        "    return 'No path to the goal found.'\n",
        "\n",
        "\n",
        "# Function to determine if the point has already been visited\n",
        "def is_in_visited_points(current_point, visited_points):\n",
        "    for visited_point in visited_points:\n",
        "        if current_point.x == visited_point.x and current_point.y == visited_point.y:\n",
        "            return True\n",
        "    return False\n",
        "\n",
        "\n",
        "print('---Depth-first Search---')\n",
        "\n",
        "# Initialize a MazePuzzle\n",
        "maze_game_main = MazePuzzle()\n",
        "\n",
        "# Run the depth first search algorithm with the initialized maze\n",
        "starting_point = Point(2, 2)\n",
        "outcome = run_dfs(maze_game_main, starting_point)\n",
        "\n",
        "# Get the path found by the depth first search algorithm\n",
        "dfs_path = get_path(outcome)\n",
        "\n",
        "# Print the results of the path found\n",
        "print('Path Length: ', len(dfs_path))\n",
        "maze_game_main.overlay_points_on_map(dfs_path)\n",
        "print('Path Cost: ', get_path_cost(outcome))\n",
        "for point in dfs_path:\n",
        "    print('Point: ', point.x, ',', point.y)\n"
      ],
      "execution_count": 9,
      "outputs": [
        {
          "output_type": "stream",
          "text": [
            "---Depth-first Search---\n",
            "Path Length:  8\n",
            "@0000\n",
            "@###0\n",
            "@#0#0\n",
            "@#@00\n",
            "@@@00\n",
            "\n",
            "Path Cost:  16\n",
            "Point:  0 , 0\n",
            "Point:  1 , 0\n",
            "Point:  2 , 0\n",
            "Point:  3 , 0\n",
            "Point:  4 , 0\n",
            "Point:  4 , 1\n",
            "Point:  4 , 2\n",
            "Point:  3 , 2\n"
          ],
          "name": "stdout"
        }
      ]
    },
    {
      "cell_type": "markdown",
      "metadata": {
        "id": "VpINvdY14pZu"
      },
      "source": [
        "## Learn more on search fundamentals\n",
        "Would you like to see visual examples of how these algorithms work along with a walk-through of the concepts and intuition behind the workings? Consider checking out the book, [Grokking Artificial Intelligence Algorithms](http://bit.ly/gaia-book), or [following me](https://twitter.com/RishalHurbans) for bite-sized explainations. You can also learn more at [rhurbans.com](https://rhurbans.com/). \n",
        "\n",
        "IMAGE"
      ]
    },
    {
      "cell_type": "markdown",
      "metadata": {
        "id": "X9U7n1c7EgmB"
      },
      "source": [
        "# Chapter 3: Intelligent Search\n",
        "\n",
        "Coming soon."
      ]
    },
    {
      "cell_type": "markdown",
      "metadata": {
        "id": "JrrJrR8lEjwt"
      },
      "source": [
        "# Chapter 4: Evolutionary algorithms\n",
        "\n",
        "Coming soon."
      ]
    },
    {
      "cell_type": "markdown",
      "metadata": {
        "id": "khD6AQl7Em67"
      },
      "source": [
        "# Chapter 5: Advanced evolutionary algorithms\n",
        "\n",
        "Coming soon."
      ]
    },
    {
      "cell_type": "markdown",
      "metadata": {
        "id": "I9eclUGuEq8D"
      },
      "source": [
        "# Chapter 6: Swarm intelligence: Ants\n",
        "\n",
        "Coming soon."
      ]
    },
    {
      "cell_type": "markdown",
      "metadata": {
        "id": "7UP1kyg5EvqC"
      },
      "source": [
        "# Chapter 7: Swarm intelligence: Particles\n",
        "\n",
        "Coming soon."
      ]
    },
    {
      "cell_type": "markdown",
      "metadata": {
        "id": "ZBg_YNNgEz8B"
      },
      "source": [
        "# Chapter 8: Machine learning\n",
        "\n",
        "Coming soon."
      ]
    },
    {
      "cell_type": "markdown",
      "metadata": {
        "id": "BMsgZaypE4Sh"
      },
      "source": [
        "# Chapter 9: Artificial neural networks\n",
        "\n",
        "Coming soon."
      ]
    },
    {
      "cell_type": "markdown",
      "metadata": {
        "id": "K30G97K4E7h4"
      },
      "source": [
        "# Chapter 10: Reinforcement learning with Q-learning\n",
        "\n",
        "Coming soon."
      ]
    }
  ]
}